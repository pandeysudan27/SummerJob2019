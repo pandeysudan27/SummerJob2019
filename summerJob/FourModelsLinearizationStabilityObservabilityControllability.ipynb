{
 "cells": [
  {
   "cell_type": "code",
   "execution_count": 1,
   "metadata": {},
   "outputs": [],
   "source": [
    "# Nominal inputs\n",
    "If=1065\n",
    "It=5360\n",
    "QdFes = 212.\n",
    "Wdf = 528.\n",
    "Qdfs = 0.8*Wdf # Efficient heating in air gap due to friction\n",
    "mdw = 53.9\n",
    "mda = 49.2;\n",
    "\n",
    "# Parameters\n",
    "pa = 1.01e5 # Atmospheric pressure , Pa\n",
    "#\n",
    "# Heat capacities\n",
    "chpa = 1.012#1.15 # Specific heat capacity air , kJ.kg-1.K-1  \n",
    "chpw = 4.1813#4.2 # Specific heat capacity water , kJ.kg-1.K-1 \n",
    "chpCu = 0.385#0.385 # Specific heat capacity copper , kJ.kg-1.K -1 \n",
    "chpFe = 0.412#0.465 # Specific heat capacity iron , kJ.kg-1.K-1 \n",
    "#\n",
    "# Metal massses\n",
    "mr = 9260. # Mass of copper in rotor , kg\n",
    "ms = 6827. # Mass of copper in stator , kg\n",
    "mFe = 71200. # Mass of iron in stator , kg\n",
    "#\n",
    "# Specific volumes (inverse of density)\n",
    "VhCu = 0.112e-3 # Specific volume of copper , m3/kg \n",
    "VhFe = 0.127e-3 # Specific volume of iron , m3/kg \n",
    "#\n",
    "# Resulting volumes\n",
    "Vr = mr*VhCu # Rotor copper volume , m3  \n",
    "Vs = ms*VhCu # Stator copper volume , m3 \n",
    "VFe = mFe*VhFe # Stator iron volume , m3 \n",
    "#\n",
    "# Heat transfer (heat transfer coefficient x area), fluids to solid\n",
    "hAax = 55.6 # Heat transfer from air to solid, kW/K\n",
    "hAwx = 222. # Heat transfer from water to solid, kW/K\n",
    "#\n",
    "# Overall heat transfer (overall heat transfer coeffcients x area)\n",
    "UAx = 1/(1/hAax+1/hAwx) # Overall heat transfer air-to-water, kW/K\n",
    "UAr2d = 2.96 #2.835  #2.7 # Heat transfer, rotor copper to air gap, kW/K \n",
    "UAs2Fe = 18 #19.#20. # Heat transfer, stator copper to stator iron, kW/K \n",
    "UAFe2a = 12.87 #13.585 # 14.285 # 14.3 # Heat transfer, rotor iron to hot air, kW/K \n",
    "Up=8.8 # \"Product of overall heat transfer and perimeter\"\n",
    "#\n",
    "# Stanton numbers for heat exchanger\n",
    "NSta = UAx/chpa/(mda)\n",
    "NStw = UAx/chpw/(mdw)\n",
    "NStd = NStw - NSta\n",
    "#\n",
    "# Enthalpies of formation\n",
    "Hha_o = 0. # Enthalpy of formation air, kJ/kg\n",
    "HhCu_o = 0. # Enthalpy of formation copper, kJ/kg \n",
    "HhFe_o = 0. # Enthalpy of formation iron, kJ/kg\n",
    "#\n",
    "# Standard state temperatures\n",
    "Ta_o = 25. # Standard state temperature air, C\n",
    "TCu_o = 25. # Standard state temperature copper, C\n",
    "TFe_o = 25. # Standard state temperature iron, C\n",
    "#\n",
    "# Copper conductor resistances\n",
    "Rr = 0.127e-3 # Ohmic resistance, rotor copper, kOhm, at 25 C\n",
    "Rs = 1.95e-6  # Ohmic resistance, stator copper, kOhm, at 25 C\n",
    "#\n",
    "alphaCu = 0.00404 # Temperature coefficient of resistance for copper\n",
    "R = 8.314 # \" J.K-1.mol-1 # \"\n",
    "MCu = 63.54 # \" Molecular mass of Copper, g/mol\"\n",
    "MFe = 55.84 # \"Molecular mass of Iron, g/mol\"\n",
    "Ma = 28.97 # \"Molecular mass of Air, g/mol\"\n",
    "Mw = 18.01 # \"Molecular mass of Water, g/mol\"\n",
    "# Linear approximation of NASA lewis coefficients\n",
    "aa,ba,aw,bw,aCu,bCu,aFe,bFe=3.28,0.000672,3.63,0.001272,2.56,0.001200,0.19,0.00676\n",
    "# Vector of parameters\n",
    "par = [pa,chpa,chpw,chpCu,chpFe,mr,ms,mFe,VhCu,VhFe,\n",
    "    Vr,Vs,VFe,UAr2d,UAs2Fe,UAFe2a,Hha_o,HhCu_o,\n",
    "    HhFe_o,Ta_o,TCu_o,TFe_o,Rr,Rs,Qdfs,hAax,hAwx,UAx,NStw,NSta,NStd];"
   ]
  },
  {
   "cell_type": "code",
   "execution_count": 5,
   "metadata": {},
   "outputs": [],
   "source": [
    "\n",
    "using DifferentialEquations\n",
    "using OrdinaryDiffEq\n",
    "using ODE\n",
    "using LinearAlgebra\n",
    "using Plots\n",
    "using Plots.PlotMeasures\n",
    "using LaTeXStrings\n",
    "using NLsolve\n",
    "pyplot();\n",
    "# Linearization Stability Observability and controllability of generator model\n",
    "# With nominal inputs\n",
    "# Model 1\n",
    "function gen(x,u,t)\n",
    "    # unpacking states\n",
    "    Tr = x[1]\n",
    "    Ts = x[2]\n",
    "    TFe = x[3]\n",
    "    # upacking inputs\n",
    "    Twc,Ifd,It,QdFes,Wdf,mdw,mda=u\n",
    "    #Twc = u[1]\n",
    "    #Ifd = u[2]\n",
    "    #It = u[3]\n",
    "   # QdFes = u[4]\n",
    "    #Wdf = u[5]\n",
    "   # mdw = u[6]\n",
    "   # mda = u[7]\n",
    "    function algebraic_equation_solver!(F, z)\n",
    "        Tac=z[1]\n",
    "        Tad=z[2]\n",
    "        Tah = z[3]\n",
    "        F[1] = mda*chpa*(Tac-Tad)+UAr2d*(Tr-Tad)+Qdfs\n",
    "        F[2] = mda*chpa*(Tad-Tah)+UAFe2a*(TFe-Tah)\n",
    "        F[3] = Tac*(NStw-NSta*exp(-NStd))-NStd*Tah-NSta*(1-exp(-NStd))*Twc\n",
    "    end\n",
    "    air_temp = nlsolve(algebraic_equation_solver!,[Ta_o,Ta_o,Ta_o]).zero \n",
    "    Tac = air_temp[1]\n",
    "    Tad = air_temp[2]\n",
    "    Tah = air_temp[3]\n",
    "    \n",
    "    # Forward Euler solver for ODE\n",
    "    dTr = (1.1*Rr*If^2-UAr2d*(Tr-Tad))/(mr*chpCu)\n",
    "    dTs = (3*Rs*It^2-UAs2Fe*(Ts-TFe))/(ms*chpCu)\n",
    "    dTFe = (UAs2Fe*(Ts-TFe)-UAFe2a*(TFe-Tah)+QdFes)/(mFe*chpFe)\n",
    "    return [dTr, dTs, dTFe]\n",
    "end\n",
    "x0 = [28.,28.,28.]\n",
    "# Time span\n",
    "tspan = (0, 60*583.)\n",
    "# Inputs\n",
    "u = [3.8,1055.,5360.,212.,528.,53.9,49.2]\n",
    "prob = ODEProblem(gen,x0,tspan,u)\n",
    "sol = solve(prob, ABM54(), dt=60);"
   ]
  },
  {
   "cell_type": "code",
   "execution_count": 6,
   "metadata": {},
   "outputs": [
    {
     "data": {
      "image/png": "[encoded data removed]"
     },
     "execution_count": 6,
     "metadata": {},
     "output_type": "execute_result"
    }
   ],
   "source": [
    "plot(sol)"
   ]
  },
  {
   "cell_type": "code",
   "execution_count": 147,
   "metadata": {},
   "outputs": [],
   "source": [
    "# findind steady state solution\n",
    "prob_steady_state = ODEProblem(gen,x0,(0.,50000),u)\n",
    "sol_steady_state = solve(prob_steady_state,DynamicSS(Tsit5()));"
   ]
  },
  {
   "cell_type": "code",
   "execution_count": 148,
   "metadata": {},
   "outputs": [
    {
     "data": {
      "text/plain": [
       "3-element Array{Float64,1}:\n",
       " 80.78833139099936\n",
       " 74.75986840519487\n",
       " 65.42274855797933"
      ]
     },
     "execution_count": 148,
     "metadata": {},
     "output_type": "execute_result"
    }
   ],
   "source": [
    "using ForwardDiff\n",
    "# steady state state values\n",
    "xs = sol_steady_state.u[end,1]"
   ]
  },
  {
   "cell_type": "code",
   "execution_count": 149,
   "metadata": {},
   "outputs": [
    {
     "data": {
      "text/plain": [
       "7-element Array{Float64,1}:\n",
       "    3.8\n",
       " 1055.0\n",
       " 5360.0\n",
       "  212.0\n",
       "  528.0\n",
       "   53.9\n",
       "   49.2"
      ]
     },
     "execution_count": 149,
     "metadata": {},
     "output_type": "execute_result"
    }
   ],
   "source": [
    "us = u\n"
   ]
  },
  {
   "cell_type": "code",
   "execution_count": 151,
   "metadata": {},
   "outputs": [
    {
     "ename": "TypeError",
     "evalue": "TypeError: in setindex!, in typeassert, expected Float64, got ForwardDiff.Dual{Nothing,Float64,3}",
     "output_type": "error",
     "traceback": [
      "TypeError: in setindex!, in typeassert, expected Float64, got ForwardDiff.Dual{Nothing,Float64,3}",
      "",
      "Stacktrace:",
      " [1] setindex!(::Array{Float64,1}, ::ForwardDiff.Dual{ForwardDiff.Tag{typeof(fx),Float64},Float64,3}, ::Int64) at .\\array.jl:769",
      " [2] (::getfield(Main, Symbol(\"#algebraic_equation_solver!#30\")){ForwardDiff.Dual{ForwardDiff.Tag{typeof(fx),Float64},Float64,3},ForwardDiff.Dual{ForwardDiff.Tag{typeof(fx),Float64},Float64,3},Float64,Float64})(::Array{Float64,1}, ::Array{Float64,1}) at .\\In[146]:31",
      " [3] (::getfield(NLSolversBase, Symbol(\"#fj_finitediff!#21\")){getfield(Main, Symbol(\"#algebraic_equation_solver!#30\")){ForwardDiff.Dual{ForwardDiff.Tag{typeof(fx),Float64},Float64,3},ForwardDiff.Dual{ForwardDiff.Tag{typeof(fx),Float64},Float64,3},Float64,Float64}})(::Array{Float64,1}, ::Array{Float64,2}, ::Array{Float64,1}) at C:\\Users\\pande\\.julia\\packages\\NLSolversBase\\KG9Ie\\src\\objective_types\\oncedifferentiable.jl:137",
      " [4] value_jacobian!!(::OnceDifferentiable{Array{Float64,1},Array{Float64,2},Array{Float64,1}}, ::Array{Float64,1}, ::Array{Float64,2}, ::Array{Float64,1}) at C:\\Users\\pande\\.julia\\packages\\NLSolversBase\\KG9Ie\\src\\interface.jl:124",
      " [5] value_jacobian!! at C:\\Users\\pande\\.julia\\packages\\NLSolversBase\\KG9Ie\\src\\interface.jl:122 [inlined]",
      " [6] trust_region_(::OnceDifferentiable{Array{Float64,1},Array{Float64,2},Array{Float64,1}}, ::Array{Float64,1}, ::Float64, ::Float64, ::Int64, ::Bool, ::Bool, ::Bool, ::Float64, ::Bool, ::NLsolve.NewtonTrustRegionCache{Array{Float64,1}}) at C:\\Users\\pande\\.julia\\packages\\NLsolve\\ltuKE\\src\\solvers\\trust_region.jl:119",
      " [7] trust_region at C:\\Users\\pande\\.julia\\packages\\NLsolve\\ltuKE\\src\\solvers\\trust_region.jl:229 [inlined] (repeats 2 times)",
      " [8] #nlsolve#23(::Symbol, ::Float64, ::Float64, ::Int64, ::Bool, ::Bool, ::Bool, ::Static, ::getfield(NLsolve, Symbol(\"##29#31\")), ::Float64, ::Bool, ::Int64, ::Float64, ::typeof(nlsolve), ::OnceDifferentiable{Array{Float64,1},Array{Float64,2},Array{Float64,1}}, ::Array{Float64,1}) at C:\\Users\\pande\\.julia\\packages\\NLsolve\\ltuKE\\src\\nlsolve\\nlsolve.jl:24",
      " [9] (::getfield(NLsolve, Symbol(\"#kw##nlsolve\")))(::NamedTuple{(:method, :xtol, :ftol, :iterations, :store_trace, :show_trace, :extended_trace, :linesearch, :factor, :autoscale, :m, :beta, :linsolve),Tuple{Symbol,Float64,Float64,Int64,Bool,Bool,Bool,Static,Float64,Bool,Int64,Float64,getfield(NLsolve, Symbol(\"##29#31\"))}}, ::typeof(nlsolve), ::OnceDifferentiable{Array{Float64,1},Array{Float64,2},Array{Float64,1}}, ::Array{Float64,1}) at .\\none:0",
      " [10] #nlsolve#28(::Symbol, ::Float64, ::Float64, ::Int64, ::Bool, ::Bool, ::Bool, ::Static, ::Float64, ::Bool, ::Int64, ::Float64, ::Symbol, ::getfield(NLsolve, Symbol(\"##29#31\")), ::Bool, ::typeof(nlsolve), ::getfield(Main, Symbol(\"#algebraic_equation_solver!#30\")){ForwardDiff.Dual{ForwardDiff.Tag{typeof(fx),Float64},Float64,3},ForwardDiff.Dual{ForwardDiff.Tag{typeof(fx),Float64},Float64,3},Float64,Float64}, ::Array{Float64,1}) at C:\\Users\\pande\\.julia\\packages\\NLsolve\\ltuKE\\src\\nlsolve\\nlsolve.jl:69",
      " [11] nlsolve(::Function, ::Array{Float64,1}) at C:\\Users\\pande\\.julia\\packages\\NLsolve\\ltuKE\\src\\nlsolve\\nlsolve.jl:55",
      " [12] gen(::Array{ForwardDiff.Dual{ForwardDiff.Tag{typeof(fx),Float64},Float64,3},1}, ::Array{Float64,1}, ::Int64) at .\\In[146]:35",
      " [13] fx(::Array{ForwardDiff.Dual{ForwardDiff.Tag{typeof(fx),Float64},Float64,3},1}) at .\\In[151]:4",
      " [14] vector_mode_jacobian(::typeof(fx), ::Array{Float64,1}, ::ForwardDiff.JacobianConfig{ForwardDiff.Tag{typeof(fx),Float64},Float64,3,Array{ForwardDiff.Dual{ForwardDiff.Tag{typeof(fx),Float64},Float64,3},1}}) at C:\\Users\\pande\\.julia\\packages\\ForwardDiff\\N0wMF\\src\\apiutils.jl:37",
      " [15] jacobian(::Function, ::Array{Float64,1}, ::ForwardDiff.JacobianConfig{ForwardDiff.Tag{typeof(fx),Float64},Float64,3,Array{ForwardDiff.Dual{ForwardDiff.Tag{typeof(fx),Float64},Float64,3},1}}, ::Val{true}) at C:\\Users\\pande\\.julia\\packages\\ForwardDiff\\N0wMF\\src\\jacobian.jl:17",
      " [16] jacobian(::Function, ::Array{Float64,1}, ::ForwardDiff.JacobianConfig{ForwardDiff.Tag{typeof(fx),Float64},Float64,3,Array{ForwardDiff.Dual{ForwardDiff.Tag{typeof(fx),Float64},Float64,3},1}}) at C:\\Users\\pande\\.julia\\packages\\ForwardDiff\\N0wMF\\src\\jacobian.jl:15 (repeats 2 times)",
      " [17] top-level scope at In[151]:6"
     ]
    }
   ],
   "source": [
    "using DiffEqDiffTools\n",
    "using ForwardDiff\n",
    "# functions in states and inputs\n",
    "fx(x) = gen(x,us,0)\n",
    "fu(u) = gen(xs,u,0)\n",
    "# Jacobians at operating points\n",
    "A = ForwardDiff.jacobian(fx,xs)\n",
    "#B = ForwardDiff.jacobian(test_fu,us)"
   ]
  },
  {
   "cell_type": "code",
   "execution_count": 143,
   "metadata": {},
   "outputs": [
    {
     "ename": "ArgumentError",
     "evalue": "ArgumentError: Package DiffEqDiffTools not found in current path:\n- Run `import Pkg; Pkg.add(\"DiffEqDiffTools\")` to install the DiffEqDiffTools package.\n",
     "output_type": "error",
     "traceback": [
      "ArgumentError: Package DiffEqDiffTools not found in current path:\n- Run `import Pkg; Pkg.add(\"DiffEqDiffTools\")` to install the DiffEqDiffTools package.\n",
      "",
      "Stacktrace:",
      " [1] require(::Module, ::Symbol) at .\\loading.jl:823",
      " [2] top-level scope at In[143]:1"
     ]
    }
   ],
   "source": []
  },
  {
   "cell_type": "code",
   "execution_count": 140,
   "metadata": {},
   "outputs": [
    {
     "ename": "TypeError",
     "evalue": "TypeError: in setindex!, in typeassert, expected Float64, got ForwardDiff.Dual{Nothing,Float64,3}",
     "output_type": "error",
     "traceback": [
      "TypeError: in setindex!, in typeassert, expected Float64, got ForwardDiff.Dual{Nothing,Float64,3}",
      "",
      "Stacktrace:",
      " [1] setindex!(::Array{Float64,1}, ::ForwardDiff.Dual{ForwardDiff.Tag{typeof(fx),Float64},Float64,3}, ::Int64) at .\\array.jl:769",
      " [2] (::getfield(Main, Symbol(\"#algebraic_equation_solver!#22\")){ForwardDiff.Dual{ForwardDiff.Tag{typeof(fx),Float64},Float64,3},ForwardDiff.Dual{ForwardDiff.Tag{typeof(fx),Float64},Float64,3},Float64,Float64})(::Array{Float64,1}, ::Array{Float64,1}) at .\\In[87]:32",
      " [3] (::getfield(NLSolversBase, Symbol(\"#fj_finitediff!#21\")){getfield(Main, Symbol(\"#algebraic_equation_solver!#22\")){ForwardDiff.Dual{ForwardDiff.Tag{typeof(fx),Float64},Float64,3},ForwardDiff.Dual{ForwardDiff.Tag{typeof(fx),Float64},Float64,3},Float64,Float64}})(::Array{Float64,1}, ::Array{Float64,2}, ::Array{Float64,1}) at C:\\Users\\pande\\.julia\\packages\\NLSolversBase\\KG9Ie\\src\\objective_types\\oncedifferentiable.jl:137",
      " [4] value_jacobian!!(::OnceDifferentiable{Array{Float64,1},Array{Float64,2},Array{Float64,1}}, ::Array{Float64,1}, ::Array{Float64,2}, ::Array{Float64,1}) at C:\\Users\\pande\\.julia\\packages\\NLSolversBase\\KG9Ie\\src\\interface.jl:124",
      " [5] value_jacobian!! at C:\\Users\\pande\\.julia\\packages\\NLSolversBase\\KG9Ie\\src\\interface.jl:122 [inlined]",
      " [6] trust_region_(::OnceDifferentiable{Array{Float64,1},Array{Float64,2},Array{Float64,1}}, ::Array{Float64,1}, ::Float64, ::Float64, ::Int64, ::Bool, ::Bool, ::Bool, ::Float64, ::Bool, ::NLsolve.NewtonTrustRegionCache{Array{Float64,1}}) at C:\\Users\\pande\\.julia\\packages\\NLsolve\\ltuKE\\src\\solvers\\trust_region.jl:119",
      " [7] trust_region at C:\\Users\\pande\\.julia\\packages\\NLsolve\\ltuKE\\src\\solvers\\trust_region.jl:229 [inlined] (repeats 2 times)",
      " [8] #nlsolve#23(::Symbol, ::Float64, ::Float64, ::Int64, ::Bool, ::Bool, ::Bool, ::Static, ::getfield(NLsolve, Symbol(\"##29#31\")), ::Float64, ::Bool, ::Int64, ::Float64, ::typeof(nlsolve), ::OnceDifferentiable{Array{Float64,1},Array{Float64,2},Array{Float64,1}}, ::Array{Float64,1}) at C:\\Users\\pande\\.julia\\packages\\NLsolve\\ltuKE\\src\\nlsolve\\nlsolve.jl:24",
      " [9] (::getfield(NLsolve, Symbol(\"#kw##nlsolve\")))(::NamedTuple{(:method, :xtol, :ftol, :iterations, :store_trace, :show_trace, :extended_trace, :linesearch, :factor, :autoscale, :m, :beta, :linsolve),Tuple{Symbol,Float64,Float64,Int64,Bool,Bool,Bool,Static,Float64,Bool,Int64,Float64,getfield(NLsolve, Symbol(\"##29#31\"))}}, ::typeof(nlsolve), ::OnceDifferentiable{Array{Float64,1},Array{Float64,2},Array{Float64,1}}, ::Array{Float64,1}) at .\\none:0",
      " [10] #nlsolve#28(::Symbol, ::Float64, ::Float64, ::Int64, ::Bool, ::Bool, ::Bool, ::Static, ::Float64, ::Bool, ::Int64, ::Float64, ::Symbol, ::getfield(NLsolve, Symbol(\"##29#31\")), ::Bool, ::typeof(nlsolve), ::getfield(Main, Symbol(\"#algebraic_equation_solver!#22\")){ForwardDiff.Dual{ForwardDiff.Tag{typeof(fx),Float64},Float64,3},ForwardDiff.Dual{ForwardDiff.Tag{typeof(fx),Float64},Float64,3},Float64,Float64}, ::Array{Float64,1}) at C:\\Users\\pande\\.julia\\packages\\NLsolve\\ltuKE\\src\\nlsolve\\nlsolve.jl:69",
      " [11] nlsolve(::Function, ::Array{Float64,1}) at C:\\Users\\pande\\.julia\\packages\\NLsolve\\ltuKE\\src\\nlsolve\\nlsolve.jl:55",
      " [12] Model1ODE(::Array{ForwardDiff.Dual{ForwardDiff.Tag{typeof(fx),Float64},Float64,3},1}, ::Array{Float64,1}, ::Int64) at .\\In[87]:36",
      " [13] fx(::Array{ForwardDiff.Dual{ForwardDiff.Tag{typeof(fx),Float64},Float64,3},1}) at .\\In[140]:3",
      " [14] vector_mode_jacobian(::typeof(fx), ::Array{Float64,1}, ::ForwardDiff.JacobianConfig{ForwardDiff.Tag{typeof(fx),Float64},Float64,3,Array{ForwardDiff.Dual{ForwardDiff.Tag{typeof(fx),Float64},Float64,3},1}}) at C:\\Users\\pande\\.julia\\packages\\ForwardDiff\\N0wMF\\src\\apiutils.jl:37",
      " [15] jacobian(::Function, ::Array{Float64,1}, ::ForwardDiff.JacobianConfig{ForwardDiff.Tag{typeof(fx),Float64},Float64,3,Array{ForwardDiff.Dual{ForwardDiff.Tag{typeof(fx),Float64},Float64,3},1}}, ::Val{true}) at C:\\Users\\pande\\.julia\\packages\\ForwardDiff\\N0wMF\\src\\jacobian.jl:17",
      " [16] jacobian(::Function, ::Array{Float64,1}, ::ForwardDiff.JacobianConfig{ForwardDiff.Tag{typeof(fx),Float64},Float64,3,Array{ForwardDiff.Dual{ForwardDiff.Tag{typeof(fx),Float64},Float64,3},1}}) at C:\\Users\\pande\\.julia\\packages\\ForwardDiff\\N0wMF\\src\\jacobian.jl:15 (repeats 2 times)",
      " [17] top-level scope at In[140]:5"
     ]
    }
   ],
   "source": [
    "using ForwardDiff\n",
    "# functions in states and inputs\n",
    "fx(x) = Model1ODE(x,us,0)\n",
    "fu(u) = Model1ODE(xs,u,0)\n",
    "# Jacobians at operating points\n",
    "A = ForwardDiff.jacobian(fx,xs)\n",
    "B = ForwardDiff.jacobian(fu,us)\n",
    "# Calculating time constants\n",
    "# Eigen value of system matrix, A\n",
    "using LinearAlgebra\n",
    "# Eigenvector\n",
    "R = eigvecs(A)\n",
    "# Eigenvalues\n",
    "λ = eigvals(A)\n",
    "# Time Constants\n",
    "τ = - @. inv(λ)/60"
   ]
  },
  {
   "cell_type": "code",
   "execution_count": null,
   "metadata": {},
   "outputs": [],
   "source": []
  }
 ],
 "metadata": {
  "kernelspec": {
   "display_name": "Julia 1.0.3",
   "language": "julia",
   "name": "julia-1.0"
  },
  "language_info": {
   "file_extension": ".jl",
   "mimetype": "application/julia",
   "name": "julia",
   "version": "1.0.3"
  }
 },
 "nbformat": 4,
 "nbformat_minor": 2
}
